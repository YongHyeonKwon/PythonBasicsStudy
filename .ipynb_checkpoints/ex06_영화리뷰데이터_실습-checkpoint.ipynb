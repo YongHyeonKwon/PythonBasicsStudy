{
 "cells": [
  {
   "cell_type": "code",
   "execution_count": 1,
   "id": "650bde14",
   "metadata": {},
   "outputs": [],
   "source": [
    "# pickle -> pkl\n",
    "# [], () 자료구조를 python 형식 그대로 저장하게 하는 확장자 pkl\n",
    "import pickle\n",
    "file = open('./data/movie_review.pkl', 'rb')\n",
    "data = pickle.load(file)\n",
    "data # [리뷰문장내용, 긍정1/부정0]\n",
    "file.close()"
   ]
  },
  {
   "cell_type": "code",
   "execution_count": 2,
   "id": "c75383fa",
   "metadata": {},
   "outputs": [
    {
     "data": {
      "text/plain": [
       "5000"
      ]
     },
     "execution_count": 2,
     "metadata": {},
     "output_type": "execute_result"
    }
   ],
   "source": [
    "# 1. 전체 리뷰 개수 확인\n",
    "len(data)"
   ]
  },
  {
   "cell_type": "code",
   "execution_count": 3,
   "id": "f508342c",
   "metadata": {},
   "outputs": [
    {
     "name": "stdout",
     "output_type": "stream",
     "text": [
      "리뷰의 평균 길이는 35.4866 입니다\n"
     ]
    }
   ],
   "source": [
    "# 2. 리뷰 길이 평균 값\n",
    "# 리뷰 접근\n",
    "rv_list = []\n",
    "gb_list = []\n",
    "for rv,gb in data:\n",
    "    rv_list.append(rv)\n",
    "\n",
    "len_sum = 0\n",
    "for rc in rv_list:\n",
    "    len_sum += len(rc)\n",
    "print('리뷰의 평균 길이는',len_sum/5000, '입니다')"
   ]
  },
  {
   "cell_type": "code",
   "execution_count": 4,
   "id": "066b5f79",
   "metadata": {},
   "outputs": [
    {
     "name": "stdout",
     "output_type": "stream",
     "text": [
      "긍정 2499 개\n",
      "부정 2501 개\n"
     ]
    }
   ],
   "source": [
    "# 3. 긍정리뷰/부정리뷰 개수\n",
    "# 1 긍정 0 부정 / 0,1 숫자 의미가 없는 데이터 (크고 작은 의미가 없는 것)\n",
    "rv_list = []\n",
    "gb_list = []\n",
    "for rv,gb in data:\n",
    "    rv_list.append(rv)\n",
    "    gb_list.append(gb)\n",
    "\n",
    "sum1 = 0\n",
    "sum2 = 0\n",
    "for rr in gb_list:\n",
    "    if rr==1:\n",
    "        sum1 += 1\n",
    "    else:\n",
    "        sum2 += 1\n",
    "        \n",
    "print('긍정',sum1,'개')\n",
    "print('부정',sum2,'개')"
   ]
  },
  {
   "cell_type": "code",
   "execution_count": 21,
   "id": "d42b2849",
   "metadata": {},
   "outputs": [
    {
     "name": "stdout",
     "output_type": "stream",
     "text": [
      "리뷰내용 최대길이: 144\n",
      "\"상처투성이인 한국인을 위하여 어제는 추기경님이 계셨고 오늘은 교황님께서 치유하시고 가셨습니다. \"\" 고난이 나를 찾을때 피하고 싶은 내마음은\"\"하시며 노래부르실때는 한 인간으로서 사제로서 격었을 그분의 고난에 눈물이 흐릅니다. 이땅에 이런어른 더안계시나요\"\n"
     ]
    }
   ],
   "source": [
    "# 4. 리뷰 길이 최대 값/ 리뷰 내용\n",
    "# max_review = data[0][0]\n",
    "# for i in data:\n",
    "#     if len(i[0])>len(max_review):\n",
    "#         max_review = i[0]\n",
    "# print(\"리뷰 최대길이는\",len(max_review),\"입니다\")\n",
    "# print(max_review)\n",
    "# 잘 이해가안됨.\n",
    "\n",
    "max_len = len(data[0][0])\n",
    "max_cont = ''\n",
    "for cont, sent in data:\n",
    "    if len(cont) > max_len:\n",
    "        max_len = len(cont)\n",
    "        max_cont = cont\n",
    "print('리뷰내용 최대길이:' , max_len)\n",
    "print(max_cont)"
   ]
  },
  {
   "cell_type": "code",
   "execution_count": 22,
   "id": "c66f4b62",
   "metadata": {},
   "outputs": [
    {
     "name": "stdout",
     "output_type": "stream",
     "text": [
      "''ㅋ'가 포함된 리뷰는 328 개 입니다.\n",
      "328\n"
     ]
    }
   ],
   "source": [
    "# 5. ㅋ가 포함된 리뷰 개수\n",
    "rv_list = []\n",
    "gb_list = []\n",
    "for rv,gb in data:\n",
    "    rv_list.append(rv)\n",
    "    gb_list.append(gb)\n",
    "cnt = 0\n",
    "for i in range(0,len(rv_list)):\n",
    "    if 'ㅋ' in rv_list[i]:\n",
    "        cnt += 1\n",
    "print(\"''ㅋ'가 포함된 리뷰는\",cnt,\"개 입니다.\")\n",
    "\n",
    "# ㅋ_cnt = 0;\n",
    "# for cont, sent in data:\n",
    "#     # 맴버 연산자 in, not in\n",
    "#     if 'ㅋ' in cont: # cont 안에 'ㅋ'이 있어?\n",
    "#         # 카운팅\n",
    "#         ㅋ_cnt+=1\n",
    "# print(ㅋ_cnt)"
   ]
  },
  {
   "cell_type": "code",
   "execution_count": 7,
   "id": "cf799ae3",
   "metadata": {},
   "outputs": [
    {
     "name": "stdout",
     "output_type": "stream",
     "text": [
      "검색할 데이터 입력 >> sd\n",
      "sd가(이) 포함된 리뷰는 1개 입니다.\n"
     ]
    }
   ],
   "source": [
    "# 6. '검색 데이터'가 포함된 리뷰 개수\n",
    "rv_list = []\n",
    "gb_list = []\n",
    "for rv,gb in data:\n",
    "    rv_list.append(rv)\n",
    "    gb_list.append(gb)\n",
    "cnt = 0\n",
    "dat = input(\"검색할 데이터 입력 >> \")\n",
    "for i in range(0,len(rv_list)):\n",
    "    if dat in rv_list[i]:\n",
    "        cnt += 1\n",
    "print(f'{dat}가(이) 포함된 리뷰는 {cnt}개 입니다.')\n"
   ]
  }
 ],
 "metadata": {
  "kernelspec": {
   "display_name": "Python 3 (ipykernel)",
   "language": "python",
   "name": "python3"
  },
  "language_info": {
   "codemirror_mode": {
    "name": "ipython",
    "version": 3
   },
   "file_extension": ".py",
   "mimetype": "text/x-python",
   "name": "python",
   "nbconvert_exporter": "python",
   "pygments_lexer": "ipython3",
   "version": "3.11.3"
  }
 },
 "nbformat": 4,
 "nbformat_minor": 5
}
